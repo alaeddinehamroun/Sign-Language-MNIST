{
  "nbformat": 4,
  "nbformat_minor": 0,
  "metadata": {
    "colab": {
      "name": "Neural Networks and Deep Learning.ipynb",
      "provenance": [],
      "collapsed_sections": [],
      "authorship_tag": "ABX9TyMeTp+tbzPiefPGB7KiP7RO",
      "include_colab_link": true
    },
    "kernelspec": {
      "name": "python3",
      "display_name": "Python 3"
    },
    "language_info": {
      "name": "python"
    },
    "accelerator": "GPU",
    "gpuClass": "standard"
  },
  "cells": [
    {
      "cell_type": "markdown",
      "metadata": {
        "id": "view-in-github",
        "colab_type": "text"
      },
      "source": [
        "<a href=\"https://colab.research.google.com/github/alaeddinehamroun/Sign-Language-MNIST/blob/main/Neural_Networks_and_Deep_Learning.ipynb\" target=\"_parent\"><img src=\"https://colab.research.google.com/assets/colab-badge.svg\" alt=\"Open In Colab\"/></a>"
      ]
    },
    {
      "cell_type": "markdown",
      "source": [
        "# Working on the Sign Language MNIST:"
      ],
      "metadata": {
        "id": "bOaOcGQ_rH7I"
      }
    },
    {
      "cell_type": "markdown",
      "source": [
        "In this notebook, I am going to try and classify images from the Sign Language MNIST\n",
        "dataset using different models and techniques that i've learned from the [DeepLearning.AI TensorFlow Developer Professional Certificate course](https://www.coursera.org/professional-certificates/tensorflow-in-practice).\n",
        "\n",
        "I actually got 0.999 testing accuracy using transfer learning. "
      ],
      "metadata": {
        "id": "nB2WMNOuG1I2"
      }
    },
    {
      "cell_type": "code",
      "execution_count": 2,
      "metadata": {
        "id": "Em1i70ZarBgy"
      },
      "outputs": [],
      "source": [
        "import csv\n",
        "import string\n",
        "import numpy as np\n",
        "import pandas as pd\n",
        "import tensorflow as tf\n",
        "import matplotlib.pyplot as plt\n",
        "from tensorflow.keras.preprocessing.image import ImageDataGenerator, array_to_img"
      ]
    },
    {
      "cell_type": "markdown",
      "source": [
        "# About the Data\n",
        "The original MNIST image dataset of handwritten digits is a popular benchmark for image-based machine learning methods but researchers have renewed efforts to update it and develop drop-in replacements that are more challenging for computer vision and original for real-world applications. As noted in one recent replacement called the Fashion-MNIST dataset, the Zalando researchers quoted the startling claim that \"Most pairs of MNIST digits (784 total pixels per sample) can be distinguished pretty well by just one pixel\". To stimulate the community to develop more drop-in replacements, the Sign Language MNIST is presented here and follows the same CSV format with labels and pixel values in single rows. The American Sign Language letter database of hand gestures represent a multi-class problem with 24 classes of letters (excluding J and Z which require motion)."
      ],
      "metadata": {
        "id": "Of2Nxl5FrYVE"
      }
    },
    {
      "cell_type": "markdown",
      "source": [
        "# Load the data"
      ],
      "metadata": {
        "id": "Cwqs3mZirVSh"
      }
    },
    {
      "cell_type": "code",
      "source": [
        "# sign_mnist_train.csv\n",
        "!gdown --id 1z0DkA9BytlLxO1C0BAWzknLyQmZAp0HR\n",
        "# sign_mnist_test.csv\n",
        "!gdown --id 1z1BIj4qmri59GWBG4ivMNFtpZ4AXIbzg"
      ],
      "metadata": {
        "colab": {
          "base_uri": "https://localhost:8080/"
        },
        "id": "3uFYwr64rTEZ",
        "outputId": "433dd875-6bed-41ec-b387-274b4539804a"
      },
      "execution_count": 3,
      "outputs": [
        {
          "output_type": "stream",
          "name": "stdout",
          "text": [
            "/usr/local/lib/python3.7/dist-packages/gdown/cli.py:131: FutureWarning: Option `--id` was deprecated in version 4.3.1 and will be removed in 5.0. You don't need to pass it anymore to use a file ID.\n",
            "  category=FutureWarning,\n",
            "Downloading...\n",
            "From: https://drive.google.com/uc?id=1z0DkA9BytlLxO1C0BAWzknLyQmZAp0HR\n",
            "To: /content/sign_mnist_train.csv\n",
            "100% 83.3M/83.3M [00:00<00:00, 87.6MB/s]\n",
            "/usr/local/lib/python3.7/dist-packages/gdown/cli.py:131: FutureWarning: Option `--id` was deprecated in version 4.3.1 and will be removed in 5.0. You don't need to pass it anymore to use a file ID.\n",
            "  category=FutureWarning,\n",
            "Downloading...\n",
            "From: https://drive.google.com/uc?id=1z1BIj4qmri59GWBG4ivMNFtpZ4AXIbzg\n",
            "To: /content/sign_mnist_test.csv\n",
            "100% 21.8M/21.8M [00:00<00:00, 237MB/s]\n"
          ]
        }
      ]
    },
    {
      "cell_type": "code",
      "source": [
        "train_data = pd.read_csv('./sign_mnist_train.csv')\n",
        "test_data = pd.read_csv('./sign_mnist_test.csv')"
      ],
      "metadata": {
        "id": "OurRUa5YrpDN"
      },
      "execution_count": 4,
      "outputs": []
    },
    {
      "cell_type": "code",
      "source": [
        "train_data.head()"
      ],
      "metadata": {
        "colab": {
          "base_uri": "https://localhost:8080/",
          "height": 300
        },
        "id": "_r-XT15Ir7xR",
        "outputId": "4b47290e-7411-48cb-8983-9cf436e9f15b"
      },
      "execution_count": 5,
      "outputs": [
        {
          "output_type": "execute_result",
          "data": {
            "text/plain": [
              "   label  pixel1  pixel2  pixel3  pixel4  pixel5  pixel6  pixel7  pixel8  \\\n",
              "0      3     107     118     127     134     139     143     146     150   \n",
              "1      6     155     157     156     156     156     157     156     158   \n",
              "2      2     187     188     188     187     187     186     187     188   \n",
              "3      2     211     211     212     212     211     210     211     210   \n",
              "4     13     164     167     170     172     176     179     180     184   \n",
              "\n",
              "   pixel9  ...  pixel775  pixel776  pixel777  pixel778  pixel779  pixel780  \\\n",
              "0     153  ...       207       207       207       207       206       206   \n",
              "1     158  ...        69       149       128        87        94       163   \n",
              "2     187  ...       202       201       200       199       198       199   \n",
              "3     210  ...       235       234       233       231       230       226   \n",
              "4     185  ...        92       105       105       108       133       163   \n",
              "\n",
              "   pixel781  pixel782  pixel783  pixel784  \n",
              "0       206       204       203       202  \n",
              "1       175       103       135       149  \n",
              "2       198       195       194       195  \n",
              "3       225       222       229       163  \n",
              "4       157       163       164       179  \n",
              "\n",
              "[5 rows x 785 columns]"
            ],
            "text/html": [
              "\n",
              "  <div id=\"df-6f672364-831c-4c5f-b24b-0c7e59d7ae15\">\n",
              "    <div class=\"colab-df-container\">\n",
              "      <div>\n",
              "<style scoped>\n",
              "    .dataframe tbody tr th:only-of-type {\n",
              "        vertical-align: middle;\n",
              "    }\n",
              "\n",
              "    .dataframe tbody tr th {\n",
              "        vertical-align: top;\n",
              "    }\n",
              "\n",
              "    .dataframe thead th {\n",
              "        text-align: right;\n",
              "    }\n",
              "</style>\n",
              "<table border=\"1\" class=\"dataframe\">\n",
              "  <thead>\n",
              "    <tr style=\"text-align: right;\">\n",
              "      <th></th>\n",
              "      <th>label</th>\n",
              "      <th>pixel1</th>\n",
              "      <th>pixel2</th>\n",
              "      <th>pixel3</th>\n",
              "      <th>pixel4</th>\n",
              "      <th>pixel5</th>\n",
              "      <th>pixel6</th>\n",
              "      <th>pixel7</th>\n",
              "      <th>pixel8</th>\n",
              "      <th>pixel9</th>\n",
              "      <th>...</th>\n",
              "      <th>pixel775</th>\n",
              "      <th>pixel776</th>\n",
              "      <th>pixel777</th>\n",
              "      <th>pixel778</th>\n",
              "      <th>pixel779</th>\n",
              "      <th>pixel780</th>\n",
              "      <th>pixel781</th>\n",
              "      <th>pixel782</th>\n",
              "      <th>pixel783</th>\n",
              "      <th>pixel784</th>\n",
              "    </tr>\n",
              "  </thead>\n",
              "  <tbody>\n",
              "    <tr>\n",
              "      <th>0</th>\n",
              "      <td>3</td>\n",
              "      <td>107</td>\n",
              "      <td>118</td>\n",
              "      <td>127</td>\n",
              "      <td>134</td>\n",
              "      <td>139</td>\n",
              "      <td>143</td>\n",
              "      <td>146</td>\n",
              "      <td>150</td>\n",
              "      <td>153</td>\n",
              "      <td>...</td>\n",
              "      <td>207</td>\n",
              "      <td>207</td>\n",
              "      <td>207</td>\n",
              "      <td>207</td>\n",
              "      <td>206</td>\n",
              "      <td>206</td>\n",
              "      <td>206</td>\n",
              "      <td>204</td>\n",
              "      <td>203</td>\n",
              "      <td>202</td>\n",
              "    </tr>\n",
              "    <tr>\n",
              "      <th>1</th>\n",
              "      <td>6</td>\n",
              "      <td>155</td>\n",
              "      <td>157</td>\n",
              "      <td>156</td>\n",
              "      <td>156</td>\n",
              "      <td>156</td>\n",
              "      <td>157</td>\n",
              "      <td>156</td>\n",
              "      <td>158</td>\n",
              "      <td>158</td>\n",
              "      <td>...</td>\n",
              "      <td>69</td>\n",
              "      <td>149</td>\n",
              "      <td>128</td>\n",
              "      <td>87</td>\n",
              "      <td>94</td>\n",
              "      <td>163</td>\n",
              "      <td>175</td>\n",
              "      <td>103</td>\n",
              "      <td>135</td>\n",
              "      <td>149</td>\n",
              "    </tr>\n",
              "    <tr>\n",
              "      <th>2</th>\n",
              "      <td>2</td>\n",
              "      <td>187</td>\n",
              "      <td>188</td>\n",
              "      <td>188</td>\n",
              "      <td>187</td>\n",
              "      <td>187</td>\n",
              "      <td>186</td>\n",
              "      <td>187</td>\n",
              "      <td>188</td>\n",
              "      <td>187</td>\n",
              "      <td>...</td>\n",
              "      <td>202</td>\n",
              "      <td>201</td>\n",
              "      <td>200</td>\n",
              "      <td>199</td>\n",
              "      <td>198</td>\n",
              "      <td>199</td>\n",
              "      <td>198</td>\n",
              "      <td>195</td>\n",
              "      <td>194</td>\n",
              "      <td>195</td>\n",
              "    </tr>\n",
              "    <tr>\n",
              "      <th>3</th>\n",
              "      <td>2</td>\n",
              "      <td>211</td>\n",
              "      <td>211</td>\n",
              "      <td>212</td>\n",
              "      <td>212</td>\n",
              "      <td>211</td>\n",
              "      <td>210</td>\n",
              "      <td>211</td>\n",
              "      <td>210</td>\n",
              "      <td>210</td>\n",
              "      <td>...</td>\n",
              "      <td>235</td>\n",
              "      <td>234</td>\n",
              "      <td>233</td>\n",
              "      <td>231</td>\n",
              "      <td>230</td>\n",
              "      <td>226</td>\n",
              "      <td>225</td>\n",
              "      <td>222</td>\n",
              "      <td>229</td>\n",
              "      <td>163</td>\n",
              "    </tr>\n",
              "    <tr>\n",
              "      <th>4</th>\n",
              "      <td>13</td>\n",
              "      <td>164</td>\n",
              "      <td>167</td>\n",
              "      <td>170</td>\n",
              "      <td>172</td>\n",
              "      <td>176</td>\n",
              "      <td>179</td>\n",
              "      <td>180</td>\n",
              "      <td>184</td>\n",
              "      <td>185</td>\n",
              "      <td>...</td>\n",
              "      <td>92</td>\n",
              "      <td>105</td>\n",
              "      <td>105</td>\n",
              "      <td>108</td>\n",
              "      <td>133</td>\n",
              "      <td>163</td>\n",
              "      <td>157</td>\n",
              "      <td>163</td>\n",
              "      <td>164</td>\n",
              "      <td>179</td>\n",
              "    </tr>\n",
              "  </tbody>\n",
              "</table>\n",
              "<p>5 rows × 785 columns</p>\n",
              "</div>\n",
              "      <button class=\"colab-df-convert\" onclick=\"convertToInteractive('df-6f672364-831c-4c5f-b24b-0c7e59d7ae15')\"\n",
              "              title=\"Convert this dataframe to an interactive table.\"\n",
              "              style=\"display:none;\">\n",
              "        \n",
              "  <svg xmlns=\"http://www.w3.org/2000/svg\" height=\"24px\"viewBox=\"0 0 24 24\"\n",
              "       width=\"24px\">\n",
              "    <path d=\"M0 0h24v24H0V0z\" fill=\"none\"/>\n",
              "    <path d=\"M18.56 5.44l.94 2.06.94-2.06 2.06-.94-2.06-.94-.94-2.06-.94 2.06-2.06.94zm-11 1L8.5 8.5l.94-2.06 2.06-.94-2.06-.94L8.5 2.5l-.94 2.06-2.06.94zm10 10l.94 2.06.94-2.06 2.06-.94-2.06-.94-.94-2.06-.94 2.06-2.06.94z\"/><path d=\"M17.41 7.96l-1.37-1.37c-.4-.4-.92-.59-1.43-.59-.52 0-1.04.2-1.43.59L10.3 9.45l-7.72 7.72c-.78.78-.78 2.05 0 2.83L4 21.41c.39.39.9.59 1.41.59.51 0 1.02-.2 1.41-.59l7.78-7.78 2.81-2.81c.8-.78.8-2.07 0-2.86zM5.41 20L4 18.59l7.72-7.72 1.47 1.35L5.41 20z\"/>\n",
              "  </svg>\n",
              "      </button>\n",
              "      \n",
              "  <style>\n",
              "    .colab-df-container {\n",
              "      display:flex;\n",
              "      flex-wrap:wrap;\n",
              "      gap: 12px;\n",
              "    }\n",
              "\n",
              "    .colab-df-convert {\n",
              "      background-color: #E8F0FE;\n",
              "      border: none;\n",
              "      border-radius: 50%;\n",
              "      cursor: pointer;\n",
              "      display: none;\n",
              "      fill: #1967D2;\n",
              "      height: 32px;\n",
              "      padding: 0 0 0 0;\n",
              "      width: 32px;\n",
              "    }\n",
              "\n",
              "    .colab-df-convert:hover {\n",
              "      background-color: #E2EBFA;\n",
              "      box-shadow: 0px 1px 2px rgba(60, 64, 67, 0.3), 0px 1px 3px 1px rgba(60, 64, 67, 0.15);\n",
              "      fill: #174EA6;\n",
              "    }\n",
              "\n",
              "    [theme=dark] .colab-df-convert {\n",
              "      background-color: #3B4455;\n",
              "      fill: #D2E3FC;\n",
              "    }\n",
              "\n",
              "    [theme=dark] .colab-df-convert:hover {\n",
              "      background-color: #434B5C;\n",
              "      box-shadow: 0px 1px 3px 1px rgba(0, 0, 0, 0.15);\n",
              "      filter: drop-shadow(0px 1px 2px rgba(0, 0, 0, 0.3));\n",
              "      fill: #FFFFFF;\n",
              "    }\n",
              "  </style>\n",
              "\n",
              "      <script>\n",
              "        const buttonEl =\n",
              "          document.querySelector('#df-6f672364-831c-4c5f-b24b-0c7e59d7ae15 button.colab-df-convert');\n",
              "        buttonEl.style.display =\n",
              "          google.colab.kernel.accessAllowed ? 'block' : 'none';\n",
              "\n",
              "        async function convertToInteractive(key) {\n",
              "          const element = document.querySelector('#df-6f672364-831c-4c5f-b24b-0c7e59d7ae15');\n",
              "          const dataTable =\n",
              "            await google.colab.kernel.invokeFunction('convertToInteractive',\n",
              "                                                     [key], {});\n",
              "          if (!dataTable) return;\n",
              "\n",
              "          const docLinkHtml = 'Like what you see? Visit the ' +\n",
              "            '<a target=\"_blank\" href=https://colab.research.google.com/notebooks/data_table.ipynb>data table notebook</a>'\n",
              "            + ' to learn more about interactive tables.';\n",
              "          element.innerHTML = '';\n",
              "          dataTable['output_type'] = 'display_data';\n",
              "          await google.colab.output.renderOutput(dataTable, element);\n",
              "          const docLink = document.createElement('div');\n",
              "          docLink.innerHTML = docLinkHtml;\n",
              "          element.appendChild(docLink);\n",
              "        }\n",
              "      </script>\n",
              "    </div>\n",
              "  </div>\n",
              "  "
            ]
          },
          "metadata": {},
          "execution_count": 5
        }
      ]
    },
    {
      "cell_type": "code",
      "source": [
        "test_data.head()"
      ],
      "metadata": {
        "colab": {
          "base_uri": "https://localhost:8080/",
          "height": 236
        },
        "id": "x8gfJTAG7Z7U",
        "outputId": "90661062-8e92-44d0-f0d3-7a3e375c2147"
      },
      "execution_count": null,
      "outputs": [
        {
          "output_type": "execute_result",
          "data": {
            "text/plain": [
              "   label  pixel1  pixel2  pixel3  pixel4  pixel5  pixel6  pixel7  pixel8  \\\n",
              "0      6     149     149     150     150     150     151     151     150   \n",
              "1      5     126     128     131     132     133     134     135     135   \n",
              "2     10      85      88      92      96     105     123     135     143   \n",
              "3      0     203     205     207     206     207     209     210     209   \n",
              "4      3     188     191     193     195     199     201     202     203   \n",
              "\n",
              "   pixel9  ...  pixel775  pixel776  pixel777  pixel778  pixel779  pixel780  \\\n",
              "0     151  ...       138       148       127        89        82        96   \n",
              "1     136  ...        47       104       194       183       186       184   \n",
              "2     147  ...        68       166       242       227       230       227   \n",
              "3     210  ...       154       248       247       248       253       236   \n",
              "4     203  ...        26        40        64        48        29        46   \n",
              "\n",
              "   pixel781  pixel782  pixel783  pixel784  \n",
              "0       106       112       120       107  \n",
              "1       184       184       182       180  \n",
              "2       226       225       224       222  \n",
              "3       230       240       253       255  \n",
              "4        49        46        46        53  \n",
              "\n",
              "[5 rows x 785 columns]"
            ],
            "text/html": [
              "\n",
              "  <div id=\"df-bf308a29-2bfc-4de5-9c69-0d3da0369568\">\n",
              "    <div class=\"colab-df-container\">\n",
              "      <div>\n",
              "<style scoped>\n",
              "    .dataframe tbody tr th:only-of-type {\n",
              "        vertical-align: middle;\n",
              "    }\n",
              "\n",
              "    .dataframe tbody tr th {\n",
              "        vertical-align: top;\n",
              "    }\n",
              "\n",
              "    .dataframe thead th {\n",
              "        text-align: right;\n",
              "    }\n",
              "</style>\n",
              "<table border=\"1\" class=\"dataframe\">\n",
              "  <thead>\n",
              "    <tr style=\"text-align: right;\">\n",
              "      <th></th>\n",
              "      <th>label</th>\n",
              "      <th>pixel1</th>\n",
              "      <th>pixel2</th>\n",
              "      <th>pixel3</th>\n",
              "      <th>pixel4</th>\n",
              "      <th>pixel5</th>\n",
              "      <th>pixel6</th>\n",
              "      <th>pixel7</th>\n",
              "      <th>pixel8</th>\n",
              "      <th>pixel9</th>\n",
              "      <th>...</th>\n",
              "      <th>pixel775</th>\n",
              "      <th>pixel776</th>\n",
              "      <th>pixel777</th>\n",
              "      <th>pixel778</th>\n",
              "      <th>pixel779</th>\n",
              "      <th>pixel780</th>\n",
              "      <th>pixel781</th>\n",
              "      <th>pixel782</th>\n",
              "      <th>pixel783</th>\n",
              "      <th>pixel784</th>\n",
              "    </tr>\n",
              "  </thead>\n",
              "  <tbody>\n",
              "    <tr>\n",
              "      <th>0</th>\n",
              "      <td>6</td>\n",
              "      <td>149</td>\n",
              "      <td>149</td>\n",
              "      <td>150</td>\n",
              "      <td>150</td>\n",
              "      <td>150</td>\n",
              "      <td>151</td>\n",
              "      <td>151</td>\n",
              "      <td>150</td>\n",
              "      <td>151</td>\n",
              "      <td>...</td>\n",
              "      <td>138</td>\n",
              "      <td>148</td>\n",
              "      <td>127</td>\n",
              "      <td>89</td>\n",
              "      <td>82</td>\n",
              "      <td>96</td>\n",
              "      <td>106</td>\n",
              "      <td>112</td>\n",
              "      <td>120</td>\n",
              "      <td>107</td>\n",
              "    </tr>\n",
              "    <tr>\n",
              "      <th>1</th>\n",
              "      <td>5</td>\n",
              "      <td>126</td>\n",
              "      <td>128</td>\n",
              "      <td>131</td>\n",
              "      <td>132</td>\n",
              "      <td>133</td>\n",
              "      <td>134</td>\n",
              "      <td>135</td>\n",
              "      <td>135</td>\n",
              "      <td>136</td>\n",
              "      <td>...</td>\n",
              "      <td>47</td>\n",
              "      <td>104</td>\n",
              "      <td>194</td>\n",
              "      <td>183</td>\n",
              "      <td>186</td>\n",
              "      <td>184</td>\n",
              "      <td>184</td>\n",
              "      <td>184</td>\n",
              "      <td>182</td>\n",
              "      <td>180</td>\n",
              "    </tr>\n",
              "    <tr>\n",
              "      <th>2</th>\n",
              "      <td>10</td>\n",
              "      <td>85</td>\n",
              "      <td>88</td>\n",
              "      <td>92</td>\n",
              "      <td>96</td>\n",
              "      <td>105</td>\n",
              "      <td>123</td>\n",
              "      <td>135</td>\n",
              "      <td>143</td>\n",
              "      <td>147</td>\n",
              "      <td>...</td>\n",
              "      <td>68</td>\n",
              "      <td>166</td>\n",
              "      <td>242</td>\n",
              "      <td>227</td>\n",
              "      <td>230</td>\n",
              "      <td>227</td>\n",
              "      <td>226</td>\n",
              "      <td>225</td>\n",
              "      <td>224</td>\n",
              "      <td>222</td>\n",
              "    </tr>\n",
              "    <tr>\n",
              "      <th>3</th>\n",
              "      <td>0</td>\n",
              "      <td>203</td>\n",
              "      <td>205</td>\n",
              "      <td>207</td>\n",
              "      <td>206</td>\n",
              "      <td>207</td>\n",
              "      <td>209</td>\n",
              "      <td>210</td>\n",
              "      <td>209</td>\n",
              "      <td>210</td>\n",
              "      <td>...</td>\n",
              "      <td>154</td>\n",
              "      <td>248</td>\n",
              "      <td>247</td>\n",
              "      <td>248</td>\n",
              "      <td>253</td>\n",
              "      <td>236</td>\n",
              "      <td>230</td>\n",
              "      <td>240</td>\n",
              "      <td>253</td>\n",
              "      <td>255</td>\n",
              "    </tr>\n",
              "    <tr>\n",
              "      <th>4</th>\n",
              "      <td>3</td>\n",
              "      <td>188</td>\n",
              "      <td>191</td>\n",
              "      <td>193</td>\n",
              "      <td>195</td>\n",
              "      <td>199</td>\n",
              "      <td>201</td>\n",
              "      <td>202</td>\n",
              "      <td>203</td>\n",
              "      <td>203</td>\n",
              "      <td>...</td>\n",
              "      <td>26</td>\n",
              "      <td>40</td>\n",
              "      <td>64</td>\n",
              "      <td>48</td>\n",
              "      <td>29</td>\n",
              "      <td>46</td>\n",
              "      <td>49</td>\n",
              "      <td>46</td>\n",
              "      <td>46</td>\n",
              "      <td>53</td>\n",
              "    </tr>\n",
              "  </tbody>\n",
              "</table>\n",
              "<p>5 rows × 785 columns</p>\n",
              "</div>\n",
              "      <button class=\"colab-df-convert\" onclick=\"convertToInteractive('df-bf308a29-2bfc-4de5-9c69-0d3da0369568')\"\n",
              "              title=\"Convert this dataframe to an interactive table.\"\n",
              "              style=\"display:none;\">\n",
              "        \n",
              "  <svg xmlns=\"http://www.w3.org/2000/svg\" height=\"24px\"viewBox=\"0 0 24 24\"\n",
              "       width=\"24px\">\n",
              "    <path d=\"M0 0h24v24H0V0z\" fill=\"none\"/>\n",
              "    <path d=\"M18.56 5.44l.94 2.06.94-2.06 2.06-.94-2.06-.94-.94-2.06-.94 2.06-2.06.94zm-11 1L8.5 8.5l.94-2.06 2.06-.94-2.06-.94L8.5 2.5l-.94 2.06-2.06.94zm10 10l.94 2.06.94-2.06 2.06-.94-2.06-.94-.94-2.06-.94 2.06-2.06.94z\"/><path d=\"M17.41 7.96l-1.37-1.37c-.4-.4-.92-.59-1.43-.59-.52 0-1.04.2-1.43.59L10.3 9.45l-7.72 7.72c-.78.78-.78 2.05 0 2.83L4 21.41c.39.39.9.59 1.41.59.51 0 1.02-.2 1.41-.59l7.78-7.78 2.81-2.81c.8-.78.8-2.07 0-2.86zM5.41 20L4 18.59l7.72-7.72 1.47 1.35L5.41 20z\"/>\n",
              "  </svg>\n",
              "      </button>\n",
              "      \n",
              "  <style>\n",
              "    .colab-df-container {\n",
              "      display:flex;\n",
              "      flex-wrap:wrap;\n",
              "      gap: 12px;\n",
              "    }\n",
              "\n",
              "    .colab-df-convert {\n",
              "      background-color: #E8F0FE;\n",
              "      border: none;\n",
              "      border-radius: 50%;\n",
              "      cursor: pointer;\n",
              "      display: none;\n",
              "      fill: #1967D2;\n",
              "      height: 32px;\n",
              "      padding: 0 0 0 0;\n",
              "      width: 32px;\n",
              "    }\n",
              "\n",
              "    .colab-df-convert:hover {\n",
              "      background-color: #E2EBFA;\n",
              "      box-shadow: 0px 1px 2px rgba(60, 64, 67, 0.3), 0px 1px 3px 1px rgba(60, 64, 67, 0.15);\n",
              "      fill: #174EA6;\n",
              "    }\n",
              "\n",
              "    [theme=dark] .colab-df-convert {\n",
              "      background-color: #3B4455;\n",
              "      fill: #D2E3FC;\n",
              "    }\n",
              "\n",
              "    [theme=dark] .colab-df-convert:hover {\n",
              "      background-color: #434B5C;\n",
              "      box-shadow: 0px 1px 3px 1px rgba(0, 0, 0, 0.15);\n",
              "      filter: drop-shadow(0px 1px 2px rgba(0, 0, 0, 0.3));\n",
              "      fill: #FFFFFF;\n",
              "    }\n",
              "  </style>\n",
              "\n",
              "      <script>\n",
              "        const buttonEl =\n",
              "          document.querySelector('#df-bf308a29-2bfc-4de5-9c69-0d3da0369568 button.colab-df-convert');\n",
              "        buttonEl.style.display =\n",
              "          google.colab.kernel.accessAllowed ? 'block' : 'none';\n",
              "\n",
              "        async function convertToInteractive(key) {\n",
              "          const element = document.querySelector('#df-bf308a29-2bfc-4de5-9c69-0d3da0369568');\n",
              "          const dataTable =\n",
              "            await google.colab.kernel.invokeFunction('convertToInteractive',\n",
              "                                                     [key], {});\n",
              "          if (!dataTable) return;\n",
              "\n",
              "          const docLinkHtml = 'Like what you see? Visit the ' +\n",
              "            '<a target=\"_blank\" href=https://colab.research.google.com/notebooks/data_table.ipynb>data table notebook</a>'\n",
              "            + ' to learn more about interactive tables.';\n",
              "          element.innerHTML = '';\n",
              "          dataTable['output_type'] = 'display_data';\n",
              "          await google.colab.output.renderOutput(dataTable, element);\n",
              "          const docLink = document.createElement('div');\n",
              "          docLink.innerHTML = docLinkHtml;\n",
              "          element.appendChild(docLink);\n",
              "        }\n",
              "      </script>\n",
              "    </div>\n",
              "  </div>\n",
              "  "
            ]
          },
          "metadata": {},
          "execution_count": 8
        }
      ]
    },
    {
      "cell_type": "code",
      "source": [
        "train_data.shape"
      ],
      "metadata": {
        "colab": {
          "base_uri": "https://localhost:8080/"
        },
        "id": "7SChJKM2r-El",
        "outputId": "7085dcfe-47de-42d1-d99a-70185a2a2f98"
      },
      "execution_count": 6,
      "outputs": [
        {
          "output_type": "execute_result",
          "data": {
            "text/plain": [
              "(27455, 785)"
            ]
          },
          "metadata": {},
          "execution_count": 6
        }
      ]
    },
    {
      "cell_type": "code",
      "source": [
        "type(train_data)"
      ],
      "metadata": {
        "colab": {
          "base_uri": "https://localhost:8080/"
        },
        "id": "AMEJZ_DJ8bX7",
        "outputId": "4d609fc9-7aa2-4824-8578-24a37766242d"
      },
      "execution_count": 7,
      "outputs": [
        {
          "output_type": "execute_result",
          "data": {
            "text/plain": [
              "pandas.core.frame.DataFrame"
            ]
          },
          "metadata": {},
          "execution_count": 7
        }
      ]
    },
    {
      "cell_type": "markdown",
      "source": [
        "# Train/test Split"
      ],
      "metadata": {
        "id": "0lDWMCXrz4no"
      }
    },
    {
      "cell_type": "code",
      "source": [
        "def split_data(source_data, SPLIT_SIZE):\n",
        "  train_length = int(len(source_data)*SPLIT_SIZE)\n",
        "  test_length = int(len(source_data) -  train_length)\n",
        "  \n",
        "  #shuffle the data\n",
        "  source_data = source_data.sample(frac = 1)\n",
        "  \n",
        "  #split the data\n",
        "  train_data = source_data[0: train_length]\n",
        "  validation_data = source_data[-test_length:]\n",
        "\n",
        "  return train_data, validation_data\n",
        "\n",
        "\n",
        "\n",
        "SPLIT_SIZE = .9\n",
        "train_data, validation_data = split_data(train_data, SPLIT_SIZE)\n"
      ],
      "metadata": {
        "id": "wqPHBQPuz39I"
      },
      "execution_count": 8,
      "outputs": []
    },
    {
      "cell_type": "code",
      "source": [
        "print(train_data.shape)\n",
        "print(validation_data.shape)"
      ],
      "metadata": {
        "colab": {
          "base_uri": "https://localhost:8080/"
        },
        "id": "W9nL-Fif7hE7",
        "outputId": "1c28c70b-9c32-4cff-ae24-0a5c49d458a0"
      },
      "execution_count": 9,
      "outputs": [
        {
          "output_type": "stream",
          "name": "stdout",
          "text": [
            "(24709, 785)\n",
            "(2746, 785)\n"
          ]
        }
      ]
    },
    {
      "cell_type": "markdown",
      "source": [
        "Alternatively, we can use the train_test_split method provided by sklearn:\n"
      ],
      "metadata": {
        "id": "zZXkf9faAaMn"
      }
    },
    {
      "cell_type": "code",
      "source": [
        "#from sklearn.model_selection import train_test_split\n",
        "#train_data, validation_data = train_test_split(train_data, test_size = 0.1, random_state = 101)"
      ],
      "metadata": {
        "id": "QUPOToc_AupD"
      },
      "execution_count": 10,
      "outputs": []
    },
    {
      "cell_type": "markdown",
      "source": [
        "# Parsing the Dataset"
      ],
      "metadata": {
        "id": "evA3gMNatV4K"
      }
    },
    {
      "cell_type": "code",
      "source": [
        "#train_data.drop('label', axis=1, inplace=True)\n",
        "#np.array([np.reshape(i, (28, 28)) for i in train_data.values]).astype(np.float64)"
      ],
      "metadata": {
        "id": "yRr65OjJ6a2i"
      },
      "execution_count": 11,
      "outputs": []
    },
    {
      "cell_type": "code",
      "source": [
        "def parse_data(data):\n",
        "  \n",
        "  labels = data['label'].values\n",
        "  data.drop('label', axis=1, inplace=True)\n",
        "  \n",
        "  images = data.values\n",
        "  images = np.array([np.reshape(i, (28, 28)) for i in images])\n",
        "  \n",
        "  labels = np.array(labels).astype(np.float64)\n",
        "  images = np.array(images).astype(np.float64)\n",
        "\n",
        "  return images, labels"
      ],
      "metadata": {
        "id": "RHk20TDBtYrT"
      },
      "execution_count": 12,
      "outputs": []
    },
    {
      "cell_type": "code",
      "source": [
        "training_images, training_labels = parse_data(train_data)\n",
        "validation_images, validation_labels = parse_data(validation_data)\n",
        "testing_images, testing_labels = parse_data(test_data)"
      ],
      "metadata": {
        "id": "4YwtZNu5uTao"
      },
      "execution_count": 13,
      "outputs": []
    },
    {
      "cell_type": "code",
      "source": [
        "print(f\"Training images has shape: {training_images.shape} and dtype: {training_images.dtype}\")\n",
        "print(f\"Training labels has shape: {training_labels.shape} and dtype: {training_labels.dtype}\")\n",
        "\n",
        "print(f\"Validation images has shape: {validation_images.shape} and dtype: {validation_images.dtype}\")\n",
        "print(f\"Validation labels has shape: {validation_labels.shape} and dtype: {validation_labels.dtype}\")\n",
        "\n",
        "print(f\"Testing images has shape: {testing_images.shape} and dtype: {testing_images.dtype}\")\n",
        "print(f\"Testing labels has shape: {testing_labels.shape} and dtype: {testing_labels.dtype}\")"
      ],
      "metadata": {
        "colab": {
          "base_uri": "https://localhost:8080/"
        },
        "id": "9tta_fWmuibA",
        "outputId": "670b8ad1-9503-4f3b-d5a6-99df23d1fc2f"
      },
      "execution_count": 14,
      "outputs": [
        {
          "output_type": "stream",
          "name": "stdout",
          "text": [
            "Training images has shape: (24709, 28, 28) and dtype: float64\n",
            "Training labels has shape: (24709,) and dtype: float64\n",
            "Validation images has shape: (2746, 28, 28) and dtype: float64\n",
            "Validation labels has shape: (2746,) and dtype: float64\n",
            "Testing images has shape: (7172, 28, 28) and dtype: float64\n",
            "Testing labels has shape: (7172,) and dtype: float64\n"
          ]
        }
      ]
    },
    {
      "cell_type": "markdown",
      "source": [
        "# Visualizing the Data"
      ],
      "metadata": {
        "id": "E9UvS-Pxuw-a"
      }
    },
    {
      "cell_type": "code",
      "source": [
        "# Plot a sample of 10 images from the training set\n",
        "def plot_categories(training_images, training_labels):\n",
        "  fig, axes = plt.subplots(1, 10, figsize=(16, 15))\n",
        "  axes = axes.flatten()\n",
        "  letters = list(string.ascii_lowercase)\n",
        "\n",
        "  for k in range(10):\n",
        "    img = training_images[k]\n",
        "    img = np.expand_dims(img, axis=-1)\n",
        "    img = array_to_img(img)\n",
        "    ax = axes[k]\n",
        "    ax.imshow(img, cmap=\"Greys_r\")\n",
        "    ax.set_title(f\"{letters[int(training_labels[k])]}\")\n",
        "    ax.set_axis_off()\n",
        "\n",
        "  plt.tight_layout()\n",
        "  plt.show()\n",
        "\n",
        "plot_categories(training_images, training_labels)"
      ],
      "metadata": {
        "colab": {
          "base_uri": "https://localhost:8080/",
          "height": 114
        },
        "id": "5DWIXJs9unLH",
        "outputId": "9387cf37-bbd7-42de-8358-2376283bf770"
      },
      "execution_count": 15,
      "outputs": [
        {
          "output_type": "display_data",
          "data": {
            "text/plain": [
              "<Figure size 1152x1080 with 10 Axes>"
            ],
            "image/png": "[encoded data removed]"
          },
          "metadata": {
            "needs_background": "light"
          }
        }
      ]
    },
    {
      "cell_type": "code",
      "source": [
        "plot_categories(testing_images, testing_labels)"
      ],
      "metadata": {
        "colab": {
          "base_uri": "https://localhost:8080/",
          "height": 114
        },
        "id": "8p3gR7ZuLxvH",
        "outputId": "93078fef-9321-44e4-ec7e-356e8854d751"
      },
      "execution_count": 16,
      "outputs": [
        {
          "output_type": "display_data",
          "data": {
            "text/plain": [
              "<Figure size 1152x1080 with 10 Axes>"
            ],
            "image/png": "[encoded data removed]"
          },
          "metadata": {
            "needs_background": "light"
          }
        }
      ]
    },
    {
      "cell_type": "markdown",
      "source": [
        "# Data augmentation"
      ],
      "metadata": {
        "id": "8B5__N2lu6sF"
      }
    },
    {
      "cell_type": "code",
      "source": [
        "def data_preprocessing(training_images, validation_images, TL=False):\n",
        "   #add another dimension to the data\n",
        "  training_images = np.expand_dims(training_images, axis=3)\n",
        "  validation_images = np.expand_dims(validation_images, axis=3)\n",
        "  if (TL):\n",
        "    training_images = tf.image.resize(training_images, (120, 120))\n",
        "    validation_images = tf.image.resize(validation_images, (120, 120))\n",
        "\n",
        "    training_images = tf.image.grayscale_to_rgb(training_images)\n",
        "    validation_images = tf.image.grayscale_to_rgb(validation_images)\n",
        "  return training_images, validation_images"
      ],
      "metadata": {
        "id": "qr9lupDISpdt"
      },
      "execution_count": 17,
      "outputs": []
    },
    {
      "cell_type": "code",
      "source": [
        "def train_val_generators(training_images, training_labels, validation_images, validation_labels):\n",
        "  \n",
        "  #Instantiate the ImageDataGenerator class\n",
        "  train_datagen = ImageDataGenerator(rescale = 1./255,\n",
        "                                     rotation_range=20,\n",
        "                                     width_shift_range=0.2,\n",
        "                                     height_shift_range=0.2,\n",
        "                                     shear_range=0.2,\n",
        "                                     zoom_range=0.2,\n",
        "                                     horizontal_flip=False,\n",
        "                                     fill_mode='nearest')\n",
        "  validation_datagen = ImageDataGenerator(rescale=1./255)\n",
        "\n",
        "  #generate batches of augmented data using the flow method\n",
        "  train_generator = train_datagen.flow(x=training_images,\n",
        "                                       y=training_labels,\n",
        "                                       batch_size=128)\n",
        "  validation_generator = validation_datagen.flow(x=validation_images,\n",
        "                                                 y=validation_labels,\n",
        "                                                 batch_size=128)\n",
        "  \n",
        "  return train_generator, validation_generator"
      ],
      "metadata": {
        "id": "-fc0mNpBvEGu"
      },
      "execution_count": 18,
      "outputs": []
    },
    {
      "cell_type": "code",
      "source": [
        "cnn_training_images, cnn_validation_images = data_preprocessing(training_images, validation_images, TL=False)"
      ],
      "metadata": {
        "id": "Uwn7DanMTJgp"
      },
      "execution_count": 19,
      "outputs": []
    },
    {
      "cell_type": "code",
      "source": [
        "print(f\"Training images for CNN has shape: {cnn_training_images.shape} and dtype: {cnn_training_images.dtype}\")\n",
        "\n",
        "print(f\"Validation images for CNN has shape: {cnn_validation_images.shape} and dtype: {cnn_validation_images.dtype}\")"
      ],
      "metadata": {
        "colab": {
          "base_uri": "https://localhost:8080/"
        },
        "id": "XFrSKG7dT5Cb",
        "outputId": "c928bd47-a69c-496f-9653-b0431ab508d8"
      },
      "execution_count": 20,
      "outputs": [
        {
          "output_type": "stream",
          "name": "stdout",
          "text": [
            "Training images for CNN has shape: (24709, 28, 28, 1) and dtype: float64\n",
            "Validation images for CNN has shape: (2746, 28, 28, 1) and dtype: float64\n"
          ]
        }
      ]
    },
    {
      "cell_type": "code",
      "source": [
        "train_generator, validation_generator = train_val_generators(cnn_training_images, training_labels, cnn_validation_images, validation_labels)\n",
        "\n",
        "print(f\"Images of training generator have shape: {train_generator.x.shape}\")\n",
        "print(f\"Labels of training generator have shape: {train_generator.y.shape}\")\n",
        "print(f\"Images of validation generator have shape: {validation_generator.x.shape}\")\n",
        "print(f\"Labels of validation generator have shape: {validation_generator.y.shape}\")"
      ],
      "metadata": {
        "colab": {
          "base_uri": "https://localhost:8080/"
        },
        "id": "hv12dr_pwkC6",
        "outputId": "be61e93e-728b-4181-f96f-b6e3716d2a9e"
      },
      "execution_count": 21,
      "outputs": [
        {
          "output_type": "stream",
          "name": "stdout",
          "text": [
            "Images of training generator have shape: (24709, 28, 28, 1)\n",
            "Labels of training generator have shape: (24709,)\n",
            "Images of validation generator have shape: (2746, 28, 28, 1)\n",
            "Labels of validation generator have shape: (2746,)\n"
          ]
        }
      ]
    },
    {
      "cell_type": "code",
      "source": [
        "print(f\"Training images has shape: {training_images.shape} and dtype: {training_images.dtype}\")\n",
        "print(f\"Validation images has shape: {validation_images.shape} and dtype: {validation_images.dtype}\")"
      ],
      "metadata": {
        "colab": {
          "base_uri": "https://localhost:8080/"
        },
        "id": "M9QC7HNiUMGc",
        "outputId": "e565813f-2ffe-436c-b61d-ddad69fef7d0"
      },
      "execution_count": 22,
      "outputs": [
        {
          "output_type": "stream",
          "name": "stdout",
          "text": [
            "Training images has shape: (24709, 28, 28) and dtype: float64\n",
            "Validation images has shape: (2746, 28, 28) and dtype: float64\n"
          ]
        }
      ]
    },
    {
      "cell_type": "markdown",
      "source": [
        "# CNN Model"
      ],
      "metadata": {
        "id": "vkGZWaOaw26i"
      }
    },
    {
      "cell_type": "code",
      "source": [
        "reduce_lr = tf.keras.callbacks.ReduceLROnPlateau(monitor='val_accuracy', factor=0.2,\n",
        "                              patience=5, min_lr=0.00001)"
      ],
      "metadata": {
        "id": "v-EeT2w6zoNZ"
      },
      "execution_count": 23,
      "outputs": []
    },
    {
      "cell_type": "code",
      "source": [
        "# Define a Callback class that stops training once accuracy reaches 99.9%\n",
        "class myCallback(tf.keras.callbacks.Callback):\n",
        "  def on_epoch_end(self, epoch, logs={}):\n",
        "    if(logs.get('accuracy') > 0.99):\n",
        "      print(\"\\nReached 99.9% accuracy so cancelling training!\")\n",
        "      self.model.stop_training = True"
      ],
      "metadata": {
        "id": "5ZktGVIgoGYg"
      },
      "execution_count": 24,
      "outputs": []
    },
    {
      "cell_type": "code",
      "source": [
        "def create_model():\n",
        "\n",
        "  ### START CODE HERE       \n",
        "\n",
        "  # Define the model\n",
        "  # Use no more than 2 Conv2D and 2 MaxPooling2D\n",
        "  model = tf.keras.models.Sequential([\n",
        "    tf.keras.layers.Conv2D(32, (3, 3), activation='relu', input_shape=(28, 28, 1)),\n",
        "    tf.keras.layers.MaxPooling2D(2, 2),\n",
        "    tf.keras.layers.Conv2D(64, (3, 3), activation='relu'),\n",
        "    tf.keras.layers.MaxPooling2D(2, 2),\n",
        "    tf.keras.layers.Flatten(),\n",
        "    tf.keras.layers.Dense(126, activation='relu'),\n",
        "    tf.keras.layers.Dense(26, activation='softmax')\n",
        "])\n",
        "\n",
        "  \n",
        "\n",
        "  model.compile(\n",
        "    optimizer=tf.keras.optimizers.Adam(),\n",
        "    loss='sparse_categorical_crossentropy',\n",
        "    metrics=['accuracy']\n",
        "  )\n",
        "\n",
        "  ### END CODE HERE       \n",
        "  \n",
        "  return model"
      ],
      "metadata": {
        "id": "Ck8kMNfew9Gr"
      },
      "execution_count": 25,
      "outputs": []
    },
    {
      "cell_type": "code",
      "source": [
        "model = create_model()"
      ],
      "metadata": {
        "id": "71kGGzS7xFjQ"
      },
      "execution_count": 26,
      "outputs": []
    },
    {
      "cell_type": "code",
      "source": [
        "model.summary()"
      ],
      "metadata": {
        "colab": {
          "base_uri": "https://localhost:8080/"
        },
        "id": "U5kdlBjLw_Qb",
        "outputId": "a4d08afc-815d-41ac-8a03-6c22e5680bfa"
      },
      "execution_count": 27,
      "outputs": [
        {
          "output_type": "stream",
          "name": "stdout",
          "text": [
            "Model: \"sequential\"\n",
            "_________________________________________________________________\n",
            " Layer (type)                Output Shape              Param #   \n",
            "=================================================================\n",
            " conv2d (Conv2D)             (None, 26, 26, 32)        320       \n",
            "                                                                 \n",
            " max_pooling2d (MaxPooling2D  (None, 13, 13, 32)       0         \n",
            " )                                                               \n",
            "                                                                 \n",
            " conv2d_1 (Conv2D)           (None, 11, 11, 64)        18496     \n",
            "                                                                 \n",
            " max_pooling2d_1 (MaxPooling  (None, 5, 5, 64)         0         \n",
            " 2D)                                                             \n",
            "                                                                 \n",
            " flatten (Flatten)           (None, 1600)              0         \n",
            "                                                                 \n",
            " dense (Dense)               (None, 126)               201726    \n",
            "                                                                 \n",
            " dense_1 (Dense)             (None, 26)                3302      \n",
            "                                                                 \n",
            "=================================================================\n",
            "Total params: 223,844\n",
            "Trainable params: 223,844\n",
            "Non-trainable params: 0\n",
            "_________________________________________________________________\n"
          ]
        }
      ]
    },
    {
      "cell_type": "code",
      "source": [
        "# Train your model\n",
        "callbacks = myCallback()\n",
        "history = model.fit(train_generator,\n",
        "                    epochs=20,\n",
        "                    validation_data=validation_generator,\n",
        "                    callbacks= [callbacks, reduce_lr])"
      ],
      "metadata": {
        "colab": {
          "base_uri": "https://localhost:8080/"
        },
        "id": "kIy1kSf_xAzu",
        "outputId": "34672c48-6e5c-4aaf-e766-c2a84f2d6f0a"
      },
      "execution_count": null,
      "outputs": [
        {
          "output_type": "stream",
          "name": "stdout",
          "text": [
            "Epoch 1/20\n",
            "194/194 [==============================] - 18s 36ms/step - loss: 2.9075 - accuracy: 0.1399 - val_loss: 1.8825 - val_accuracy: 0.4476 - lr: 0.0010\n",
            "Epoch 2/20\n",
            "194/194 [==============================] - 12s 62ms/step - loss: 2.1079 - accuracy: 0.3557 - val_loss: 1.2863 - val_accuracy: 0.5605 - lr: 0.0010\n",
            "Epoch 3/20\n",
            "194/194 [==============================] - 7s 34ms/step - loss: 1.6636 - accuracy: 0.4774 - val_loss: 0.8312 - val_accuracy: 0.7571 - lr: 0.0010\n",
            "Epoch 4/20\n",
            "194/194 [==============================] - 19s 97ms/step - loss: 1.4316 - accuracy: 0.5409 - val_loss: 0.6558 - val_accuracy: 0.8077 - lr: 0.0010\n",
            "Epoch 5/20\n",
            "194/194 [==============================] - 15s 75ms/step - loss: 1.2544 - accuracy: 0.5978 - val_loss: 0.6565 - val_accuracy: 0.7855 - lr: 0.0010\n",
            "Epoch 6/20\n",
            "194/194 [==============================] - 13s 68ms/step - loss: 1.1344 - accuracy: 0.6339 - val_loss: 0.5919 - val_accuracy: 0.7768 - lr: 0.0010\n",
            "Epoch 7/20\n",
            "194/194 [==============================] - 13s 68ms/step - loss: 1.0052 - accuracy: 0.6758 - val_loss: 0.4927 - val_accuracy: 0.8212 - lr: 0.0010\n",
            "Epoch 8/20\n",
            "194/194 [==============================] - 13s 67ms/step - loss: 0.9452 - accuracy: 0.6903 - val_loss: 0.4169 - val_accuracy: 0.8525 - lr: 0.0010\n",
            "Epoch 9/20\n",
            "194/194 [==============================] - 11s 59ms/step - loss: 0.8651 - accuracy: 0.7183 - val_loss: 0.4267 - val_accuracy: 0.8449 - lr: 0.0010\n",
            "Epoch 10/20\n",
            "194/194 [==============================] - 12s 61ms/step - loss: 0.8010 - accuracy: 0.7393 - val_loss: 0.3240 - val_accuracy: 0.8776 - lr: 0.0010\n",
            "Epoch 11/20\n",
            "194/194 [==============================] - 17s 86ms/step - loss: 0.7512 - accuracy: 0.7526 - val_loss: 0.2772 - val_accuracy: 0.9126 - lr: 0.0010\n",
            "Epoch 12/20\n",
            "194/194 [==============================] - 9s 48ms/step - loss: 0.7006 - accuracy: 0.7690 - val_loss: 0.2904 - val_accuracy: 0.8955 - lr: 0.0010\n",
            "Epoch 13/20\n",
            "194/194 [==============================] - 7s 35ms/step - loss: 0.6746 - accuracy: 0.7783 - val_loss: 0.2602 - val_accuracy: 0.9162 - lr: 0.0010\n",
            "Epoch 14/20\n",
            "194/194 [==============================] - 10s 52ms/step - loss: 0.6417 - accuracy: 0.7908 - val_loss: 0.1901 - val_accuracy: 0.9417 - lr: 0.0010\n",
            "Epoch 15/20\n",
            "194/194 [==============================] - 7s 34ms/step - loss: 0.5945 - accuracy: 0.8090 - val_loss: 0.2374 - val_accuracy: 0.9155 - lr: 0.0010\n",
            "Epoch 16/20\n",
            "194/194 [==============================] - 7s 34ms/step - loss: 0.5625 - accuracy: 0.8131 - val_loss: 0.1464 - val_accuracy: 0.9665 - lr: 0.0010\n",
            "Epoch 17/20\n",
            "194/194 [==============================] - 7s 35ms/step - loss: 0.5419 - accuracy: 0.8252 - val_loss: 0.2237 - val_accuracy: 0.9177 - lr: 0.0010\n",
            "Epoch 18/20\n",
            "194/194 [==============================] - 8s 40ms/step - loss: 0.5074 - accuracy: 0.8356 - val_loss: 0.2167 - val_accuracy: 0.9243 - lr: 0.0010\n",
            "Epoch 19/20\n",
            "194/194 [==============================] - 7s 38ms/step - loss: 0.4963 - accuracy: 0.8367 - val_loss: 0.1281 - val_accuracy: 0.9654 - lr: 0.0010\n",
            "Epoch 20/20\n",
            "194/194 [==============================] - 7s 35ms/step - loss: 0.4692 - accuracy: 0.8440 - val_loss: 0.1280 - val_accuracy: 0.9618 - lr: 0.0010\n"
          ]
        }
      ]
    },
    {
      "cell_type": "code",
      "source": [
        "# Plot the chart for accuracy and loss on both training and validation\n",
        "def plot_accuracy_and_loss(history):\n",
        "  acc = history.history['accuracy']\n",
        "  val_acc = history.history['val_accuracy']\n",
        "  loss = history.history['loss']\n",
        "  val_loss = history.history['val_loss']\n",
        "\n",
        "  epochs = range(len(acc))\n",
        "\n",
        "  plt.plot(epochs, acc, 'r', label='Training accuracy')\n",
        "  plt.plot(epochs, val_acc, 'b', label='Validation accuracy')\n",
        "  plt.title('Training and validation accuracy')\n",
        "  plt.legend()\n",
        "  plt.figure()\n",
        "\n",
        "  plt.plot(epochs, loss, 'r', label='Training Loss')\n",
        "  plt.plot(epochs, val_loss, 'b', label='Validation Loss')\n",
        "  plt.title('Training and validation loss')\n",
        "  plt.legend()\n",
        "\n",
        "  plt.show()"
      ],
      "metadata": {
        "id": "qPcGCCXhrmRO"
      },
      "execution_count": 33,
      "outputs": []
    },
    {
      "cell_type": "code",
      "source": [
        "plot_accuracy_and_loss(history)"
      ],
      "metadata": {
        "colab": {
          "base_uri": "https://localhost:8080/",
          "height": 545
        },
        "id": "Xadf_kALr8SS",
        "outputId": "2ee38681-8bd6-4064-8b58-ae4260d925c5"
      },
      "execution_count": null,
      "outputs": [
        {
          "output_type": "display_data",
          "data": {
            "text/plain": [
              "<Figure size 432x288 with 1 Axes>"
            ],
            "image/png": "[encoded data removed]"
          },
          "metadata": {
            "needs_background": "light"
          }
        },
        {
          "output_type": "display_data",
          "data": {
            "text/plain": [
              "<Figure size 432x288 with 1 Axes>"
            ],
            "image/png": "[encoded data removed]"
          },
          "metadata": {
            "needs_background": "light"
          }
        }
      ]
    },
    {
      "cell_type": "code",
      "source": [
        "from sklearn.metrics import accuracy_score\n",
        "def make_predictions(model):\n",
        "  predictions = model.predict(testing_images)\n",
        "  pred = np.argmax(predictions, axis=1)\n",
        "  print(accuracy_score(testing_labels, pred))"
      ],
      "metadata": {
        "id": "9uIsjKGFsFkM"
      },
      "execution_count": 37,
      "outputs": []
    },
    {
      "cell_type": "code",
      "source": [
        "make_predictions(model)"
      ],
      "metadata": {
        "colab": {
          "base_uri": "https://localhost:8080/"
        },
        "id": "uZXfDCrXwhIZ",
        "outputId": "0190fe1f-6f21-4988-e08a-c37799050a19"
      },
      "execution_count": null,
      "outputs": [
        {
          "output_type": "stream",
          "name": "stdout",
          "text": [
            "0.7339654210819855\n"
          ]
        }
      ]
    },
    {
      "cell_type": "markdown",
      "source": [
        "# Using Transfer learning"
      ],
      "metadata": {
        "id": "RXJPPO23yLQa"
      }
    },
    {
      "cell_type": "code",
      "source": [
        "tl_training_images, tl_validation_images = data_preprocessing(training_images, validation_images, TL=True)"
      ],
      "metadata": {
        "id": "IWT8YJB2Rong"
      },
      "execution_count": 18,
      "outputs": []
    },
    {
      "cell_type": "code",
      "source": [
        "print(f\"Training images for TL has shape: {tl_training_images.shape} and dtype: {tl_training_images.dtype}\")\n",
        "print(f\"Validation images for TL has shape: {tl_validation_images.shape} and dtype: {tl_validation_images.dtype}\")"
      ],
      "metadata": {
        "colab": {
          "base_uri": "https://localhost:8080/"
        },
        "id": "Y3wmkJzhUpvC",
        "outputId": "166c2023-71c0-4f53-b3b4-239df145a958"
      },
      "execution_count": 19,
      "outputs": [
        {
          "output_type": "stream",
          "name": "stdout",
          "text": [
            "Training images for TL has shape: (24709, 120, 120, 3) and dtype: <dtype: 'float32'>\n",
            "Validation images for TL has shape: (2746, 120, 120, 3) and dtype: <dtype: 'float32'>\n"
          ]
        }
      ]
    },
    {
      "cell_type": "code",
      "source": [
        "tl_train_generator, tl_validation_generator = train_val_generators(tl_training_images, training_labels, tl_validation_images, validation_labels)\n",
        "\n",
        "print(f\"Images of training generator have shape: {tl_train_generator.x.shape}\")\n",
        "print(f\"Labels of training generator have shape: {tl_train_generator.y.shape}\")\n",
        "print(f\"Images of validation generator have shape: {tl_validation_generator.x.shape}\")\n",
        "print(f\"Labels of validation generator have shape: {tl_validation_generator.y.shape}\")"
      ],
      "metadata": {
        "colab": {
          "base_uri": "https://localhost:8080/"
        },
        "id": "JPm7Ylk6-rCh",
        "outputId": "db6c7db0-966d-463c-ceaf-b9eb2676dbc9"
      },
      "execution_count": 20,
      "outputs": [
        {
          "output_type": "stream",
          "name": "stdout",
          "text": [
            "Images of training generator have shape: (24709, 120, 120, 3)\n",
            "Labels of training generator have shape: (24709,)\n",
            "Images of validation generator have shape: (2746, 120, 120, 3)\n",
            "Labels of validation generator have shape: (2746,)\n"
          ]
        }
      ]
    },
    {
      "cell_type": "code",
      "source": [
        "# Download the inception v3 weights\n",
        "!wget --no-check-certificate \\\n",
        "    https://storage.googleapis.com/mledu-datasets/inception_v3_weights_tf_dim_ordering_tf_kernels_notop.h5 \\\n",
        "    -O /tmp/inception_v3_weights_tf_dim_ordering_tf_kernels_notop.h5"
      ],
      "metadata": {
        "colab": {
          "base_uri": "https://localhost:8080/"
        },
        "id": "Q6Q6wU5f_xd8",
        "outputId": "6f9aaa72-1497-413f-f4c2-1394e1b0c5de"
      },
      "execution_count": 21,
      "outputs": [
        {
          "output_type": "stream",
          "name": "stdout",
          "text": [
            "--2022-06-29 19:43:35--  https://storage.googleapis.com/mledu-datasets/inception_v3_weights_tf_dim_ordering_tf_kernels_notop.h5\n",
            "Resolving storage.googleapis.com (storage.googleapis.com)... 74.125.24.128, 142.251.10.128, 172.217.194.128, ...\n",
            "Connecting to storage.googleapis.com (storage.googleapis.com)|74.125.24.128|:443... connected.\n",
            "HTTP request sent, awaiting response... 200 OK\n",
            "Length: 87910968 (84M) [application/x-hdf]\n",
            "Saving to: ‘/tmp/inception_v3_weights_tf_dim_ordering_tf_kernels_notop.h5’\n",
            "\n",
            "/tmp/inception_v3_w 100%[===================>]  83.84M  36.9MB/s    in 2.3s    \n",
            "\n",
            "2022-06-29 19:43:39 (36.9 MB/s) - ‘/tmp/inception_v3_weights_tf_dim_ordering_tf_kernels_notop.h5’ saved [87910968/87910968]\n",
            "\n"
          ]
        }
      ]
    },
    {
      "cell_type": "code",
      "source": [
        "# Import the inception model  \n",
        "from tensorflow.keras.applications.inception_v3 import InceptionV3\n",
        "\n",
        "# Create an instance of the inception model from the local pre-trained weights\n",
        "local_weights_file = '/tmp/inception_v3_weights_tf_dim_ordering_tf_kernels_notop.h5'"
      ],
      "metadata": {
        "id": "U3eyzCZx_mT2"
      },
      "execution_count": 22,
      "outputs": []
    },
    {
      "cell_type": "code",
      "source": [
        "def create_pre_trained_model(local_weights_file):\n",
        "  pre_trained_model = InceptionV3(input_shape = (120, 120, 3),\n",
        "                                  include_top = False, \n",
        "                                  weights = None) \n",
        "  \n",
        "  pre_trained_model.load_weights(local_weights_file)\n",
        "\n",
        "  # Make all the layers in the pre-trained model non-trainable\n",
        "  for layer in pre_trained_model.layers:\n",
        "    layer.trainable = False\n",
        "  \n",
        "  return pre_trained_model\n"
      ],
      "metadata": {
        "id": "IwsrsKdNmpaC"
      },
      "execution_count": 23,
      "outputs": []
    },
    {
      "cell_type": "code",
      "source": [
        "pre_trained_model = create_pre_trained_model(local_weights_file)"
      ],
      "metadata": {
        "id": "Bww6h5HQnYkx"
      },
      "execution_count": 24,
      "outputs": []
    },
    {
      "cell_type": "code",
      "source": [
        "pre_trained_model.summary()"
      ],
      "metadata": {
        "id": "cLaVPmNNnf0u"
      },
      "execution_count": null,
      "outputs": []
    },
    {
      "cell_type": "code",
      "source": [
        "#Check that all layers in the model were set to be non-trainable\n",
        "total_params = pre_trained_model.count_params()\n",
        "num_trainable_params = sum([w.shape.num_elements() for w in pre_trained_model.trainable_weights])\n",
        "\n",
        "print(f\"There are {total_params:,} total parameters in this model.\")\n",
        "print(f\"There are {num_trainable_params:,} trainable parameters in this model.\")"
      ],
      "metadata": {
        "colab": {
          "base_uri": "https://localhost:8080/"
        },
        "id": "JD5pLsTMnnKz",
        "outputId": "a82aa7bb-5466-4036-b173-b09d2d2416a5"
      },
      "execution_count": 25,
      "outputs": [
        {
          "output_type": "stream",
          "name": "stdout",
          "text": [
            "There are 21,802,784 total parameters in this model.\n",
            "There are 0 trainable parameters in this model.\n"
          ]
        }
      ]
    },
    {
      "cell_type": "markdown",
      "source": [
        "Pipelining the pre-trained model with yout own:"
      ],
      "metadata": {
        "id": "IrxKa-B2pKvJ"
      }
    },
    {
      "cell_type": "code",
      "source": [
        "def output_of_last_layer(pre_trained_model):\n",
        "  last_desired_layer = pre_trained_model.get_layer('mixed7')\n",
        "  print('last layer output shape: ', last_desired_layer.output_shape)\n",
        "  last_output = last_desired_layer.output\n",
        "  print('last layer output: ', last_output)\n",
        "\n",
        "  return last_output"
      ],
      "metadata": {
        "id": "tSxv_ViHoYjw"
      },
      "execution_count": 26,
      "outputs": []
    },
    {
      "cell_type": "code",
      "source": [
        "last_output = output_of_last_layer(pre_trained_model)"
      ],
      "metadata": {
        "colab": {
          "base_uri": "https://localhost:8080/"
        },
        "id": "TP1tjBcOpDmZ",
        "outputId": "99349776-0ab0-4723-dfb5-958690b35ac2"
      },
      "execution_count": 27,
      "outputs": [
        {
          "output_type": "stream",
          "name": "stdout",
          "text": [
            "last layer output shape:  (None, 5, 5, 768)\n",
            "last layer output:  KerasTensor(type_spec=TensorSpec(shape=(None, 5, 5, 768), dtype=tf.float32, name=None), name='mixed7/concat:0', description=\"created by layer 'mixed7'\")\n"
          ]
        }
      ]
    },
    {
      "cell_type": "code",
      "source": [
        "# Print the type of the pre-trained model\n",
        "print(f\"The pretrained model has type: {type(pre_trained_model)}\")"
      ],
      "metadata": {
        "colab": {
          "base_uri": "https://localhost:8080/"
        },
        "id": "OsRExXyMpPK6",
        "outputId": "cc342861-9617-4105-a6e7-424b9204aea7"
      },
      "execution_count": 28,
      "outputs": [
        {
          "output_type": "stream",
          "name": "stdout",
          "text": [
            "The pretrained model has type: <class 'keras.engine.functional.Functional'>\n"
          ]
        }
      ]
    },
    {
      "cell_type": "code",
      "source": [
        "def create_final_model(pre_trained_model, last_output):\n",
        "  x = tf.keras.layers.Flatten()(last_output)\n",
        "  x = tf.keras.layers.Dense(1024, activation='relu')(x)\n",
        "  x = tf.keras.layers.Dropout(0.2)(x)\n",
        "  x = tf.keras.layers.Dense(26, activation='softmax')(x)\n",
        "\n",
        "  model = tf.keras.Model(inputs=pre_trained_model.input, outputs=x)\n",
        "\n",
        "  model.compile(\n",
        "    optimizer=tf.keras.optimizers.Adam(),\n",
        "    loss='sparse_categorical_crossentropy',\n",
        "    metrics=['accuracy']\n",
        "  )\n",
        "\n",
        "  return model"
      ],
      "metadata": {
        "id": "CYWVxpc_pZXg"
      },
      "execution_count": 29,
      "outputs": []
    },
    {
      "cell_type": "code",
      "source": [
        "tl_model = create_final_model(pre_trained_model, last_output)\n",
        "\n",
        "total_params = tl_model.count_params()\n",
        "num_trainable_params = sum([w.shape.num_elements() for w in tl_model.trainable_weights])\n",
        "\n",
        "print(f\"There are {total_params:,} total parameters in this model.\")\n",
        "print(f\"There are {num_trainable_params:,} trainable parameters in this model.\")"
      ],
      "metadata": {
        "colab": {
          "base_uri": "https://localhost:8080/"
        },
        "id": "_T46KPinqXM7",
        "outputId": "e564402d-fd40-4df1-fbd3-7a0ebac3ed38"
      },
      "execution_count": 30,
      "outputs": [
        {
          "output_type": "stream",
          "name": "stdout",
          "text": [
            "There are 28,663,738 total parameters in this model.\n",
            "There are 19,688,474 trainable parameters in this model.\n"
          ]
        }
      ]
    },
    {
      "cell_type": "code",
      "source": [
        "callbacks = myCallback()\n",
        "history = tl_model.fit(tl_train_generator,\n",
        "                    epochs=20,\n",
        "                    validation_data=tl_validation_generator,\n",
        "                    callbacks= [callbacks, reduce_lr])"
      ],
      "metadata": {
        "colab": {
          "base_uri": "https://localhost:8080/"
        },
        "id": "cmegdpNfqm7l",
        "outputId": "09381076-bfc9-4301-ac8a-0ddc372270b8"
      },
      "execution_count": 31,
      "outputs": [
        {
          "output_type": "stream",
          "name": "stdout",
          "text": [
            "Epoch 1/20\n",
            "194/194 [==============================] - 104s 461ms/step - loss: 0.6912 - accuracy: 0.8174 - val_loss: 0.0367 - val_accuracy: 0.9931 - lr: 0.0010\n",
            "Epoch 2/20\n",
            "194/194 [==============================] - 85s 436ms/step - loss: 0.1871 - accuracy: 0.9405 - val_loss: 0.0128 - val_accuracy: 0.9975 - lr: 0.0010\n",
            "Epoch 3/20\n",
            "194/194 [==============================] - 85s 436ms/step - loss: 0.1273 - accuracy: 0.9575 - val_loss: 0.0134 - val_accuracy: 0.9945 - lr: 0.0010\n",
            "Epoch 4/20\n",
            "194/194 [==============================] - 85s 435ms/step - loss: 0.0989 - accuracy: 0.9677 - val_loss: 0.0037 - val_accuracy: 0.9996 - lr: 0.0010\n",
            "Epoch 5/20\n",
            "194/194 [==============================] - 84s 432ms/step - loss: 0.1074 - accuracy: 0.9666 - val_loss: 0.0084 - val_accuracy: 0.9967 - lr: 0.0010\n",
            "Epoch 6/20\n",
            "194/194 [==============================] - 85s 438ms/step - loss: 0.0996 - accuracy: 0.9668 - val_loss: 0.0049 - val_accuracy: 0.9982 - lr: 0.0010\n",
            "Epoch 7/20\n",
            "194/194 [==============================] - 84s 432ms/step - loss: 0.0891 - accuracy: 0.9700 - val_loss: 0.0155 - val_accuracy: 0.9949 - lr: 0.0010\n",
            "Epoch 8/20\n",
            "194/194 [==============================] - 83s 428ms/step - loss: 0.0763 - accuracy: 0.9744 - val_loss: 0.0016 - val_accuracy: 0.9996 - lr: 0.0010\n",
            "Epoch 9/20\n",
            "194/194 [==============================] - 84s 432ms/step - loss: 0.0794 - accuracy: 0.9742 - val_loss: 0.0018 - val_accuracy: 0.9996 - lr: 0.0010\n",
            "Epoch 10/20\n",
            "194/194 [==============================] - 83s 427ms/step - loss: 0.0382 - accuracy: 0.9882 - val_loss: 8.2082e-04 - val_accuracy: 1.0000 - lr: 2.0000e-04\n",
            "Epoch 11/20\n",
            "194/194 [==============================] - ETA: 0s - loss: 0.0274 - accuracy: 0.9918\n",
            "Reached 99.9% accuracy so cancelling training!\n",
            "194/194 [==============================] - 83s 427ms/step - loss: 0.0274 - accuracy: 0.9918 - val_loss: 8.2261e-04 - val_accuracy: 1.0000 - lr: 2.0000e-04\n"
          ]
        }
      ]
    },
    {
      "cell_type": "code",
      "source": [
        "plot_accuracy_and_loss(history)"
      ],
      "metadata": {
        "colab": {
          "base_uri": "https://localhost:8080/",
          "height": 545
        },
        "id": "x_nnVE5Jq4cn",
        "outputId": "7b516cca-162c-4941-985b-79f339711387"
      },
      "execution_count": 34,
      "outputs": [
        {
          "output_type": "display_data",
          "data": {
            "text/plain": [
              "<Figure size 432x288 with 1 Axes>"
            ],
            "image/png": "[encoded data removed]"
          },
          "metadata": {
            "needs_background": "light"
          }
        },
        {
          "output_type": "display_data",
          "data": {
            "text/plain": [
              "<Figure size 432x288 with 1 Axes>"
            ],
            "image/png": "[encoded data removed]"
          },
          "metadata": {
            "needs_background": "light"
          }
        }
      ]
    },
    {
      "cell_type": "code",
      "source": [
        "testing_images = np.expand_dims(testing_images, axis=3)\n",
        "print(testing_images.shape)\n",
        "testing_images = tf.image.resize(testing_images, (120, 120))\n",
        "print(testing_images.shape)\n",
        "testing_images = tf.image.grayscale_to_rgb(testing_images)\n",
        "print(testing_images.shape)\n"
      ],
      "metadata": {
        "colab": {
          "base_uri": "https://localhost:8080/"
        },
        "id": "zImxwJtgIFVX",
        "outputId": "d0580312-929f-4207-942a-ea2d732c0d0a"
      },
      "execution_count": 50,
      "outputs": [
        {
          "output_type": "stream",
          "name": "stdout",
          "text": [
            "(7172, 28, 28, 1)\n",
            "(7172, 120, 120, 1)\n",
            "(7172, 120, 120, 3)\n",
            "(7172, 120, 120, 3)\n"
          ]
        }
      ]
    },
    {
      "cell_type": "code",
      "source": [
        "testing_images = testing_images /255\n",
        "print(testing_images.shape)\n",
        "print(testing_images[0])"
      ],
      "metadata": {
        "colab": {
          "base_uri": "https://localhost:8080/"
        },
        "id": "F1W8S63iFjK6",
        "outputId": "167448b0-d60f-4cf9-80d9-afab3802f25b"
      },
      "execution_count": 53,
      "outputs": [
        {
          "output_type": "stream",
          "name": "stdout",
          "text": [
            "(7172, 120, 120, 3)\n",
            "tf.Tensor(\n",
            "[[[0.58431375 0.58431375 0.58431375]\n",
            "  [0.58431375 0.58431375 0.58431375]\n",
            "  [0.58431375 0.58431375 0.58431375]\n",
            "  ...\n",
            "  [0.5846405  0.5846405  0.5846405 ]\n",
            "  [0.58431375 0.58431375 0.58431375]\n",
            "  [0.58431375 0.58431375 0.58431375]]\n",
            "\n",
            " [[0.58431375 0.58431375 0.58431375]\n",
            "  [0.58431375 0.58431375 0.58431375]\n",
            "  [0.58431375 0.58431375 0.58431375]\n",
            "  ...\n",
            "  [0.5846405  0.5846405  0.5846405 ]\n",
            "  [0.58431375 0.58431375 0.58431375]\n",
            "  [0.58431375 0.58431375 0.58431375]]\n",
            "\n",
            " [[0.5846405  0.5846405  0.5846405 ]\n",
            "  [0.5846405  0.5846405  0.5846405 ]\n",
            "  [0.5846405  0.5846405  0.5846405 ]\n",
            "  ...\n",
            "  [0.58523965 0.58523965 0.58523965]\n",
            "  [0.5849673  0.5849673  0.5849673 ]\n",
            "  [0.5849673  0.5849673  0.5849673 ]]\n",
            "\n",
            " ...\n",
            "\n",
            " [[0.29379085 0.29379085 0.29379085]\n",
            "  [0.29379085 0.29379085 0.29379085]\n",
            "  [0.2935185  0.2935185  0.2935185 ]\n",
            "  ...\n",
            "  [0.4255447  0.4255447  0.4255447 ]\n",
            "  [0.42156863 0.42156863 0.42156863]\n",
            "  [0.42156863 0.42156863 0.42156863]]\n",
            "\n",
            " [[0.29411766 0.29411766 0.29411766]\n",
            "  [0.29411766 0.29411766 0.29411766]\n",
            "  [0.29379085 0.29379085 0.29379085]\n",
            "  ...\n",
            "  [0.42385626 0.42385626 0.42385626]\n",
            "  [0.41960785 0.41960785 0.41960785]\n",
            "  [0.41960785 0.41960785 0.41960785]]\n",
            "\n",
            " [[0.29411766 0.29411766 0.29411766]\n",
            "  [0.29411766 0.29411766 0.29411766]\n",
            "  [0.29379085 0.29379085 0.29379085]\n",
            "  ...\n",
            "  [0.42385626 0.42385626 0.42385626]\n",
            "  [0.41960785 0.41960785 0.41960785]\n",
            "  [0.41960785 0.41960785 0.41960785]]], shape=(120, 120, 3), dtype=float32)\n"
          ]
        }
      ]
    },
    {
      "cell_type": "code",
      "source": [
        "print(tl_model.predict(testing_images))"
      ],
      "metadata": {
        "colab": {
          "base_uri": "https://localhost:8080/"
        },
        "id": "Sy2n2IoBscIX",
        "outputId": "195a2e97-66ad-4c10-ae84-061214731c06"
      },
      "execution_count": 54,
      "outputs": [
        {
          "output_type": "stream",
          "name": "stdout",
          "text": [
            "[[4.87765087e-16 6.94189541e-12 3.45606956e-08 ... 5.32877301e-12\n",
            "  2.44388277e-11 1.69173469e-14]\n",
            " [3.72862331e-12 8.28774319e-06 7.49319773e-11 ... 4.30088083e-11\n",
            "  2.52539877e-07 5.86034409e-16]\n",
            " [1.74150057e-17 3.39877317e-16 2.95259664e-19 ... 2.22299926e-17\n",
            "  7.52622909e-15 3.20045452e-20]\n",
            " ...\n",
            " [2.22450418e-15 1.24607156e-11 9.99962091e-01 ... 4.57781122e-12\n",
            "  6.71196795e-16 4.69918560e-17]\n",
            " [9.90584592e-09 2.59866506e-09 4.67165959e-11 ... 2.35250708e-10\n",
            "  5.03633080e-10 2.88520878e-12]\n",
            " [4.10965610e-19 2.11557293e-13 9.99999881e-01 ... 6.10011402e-15\n",
            "  2.97297501e-19 1.18332524e-20]]\n"
          ]
        }
      ]
    },
    {
      "cell_type": "code",
      "source": [
        "make_predictions(tl_model)"
      ],
      "metadata": {
        "colab": {
          "base_uri": "https://localhost:8080/"
        },
        "id": "2JOGoE2fF0mR",
        "outputId": "eb8467f3-38b2-4c8d-b7dc-52fffc59069a"
      },
      "execution_count": 55,
      "outputs": [
        {
          "output_type": "stream",
          "name": "stdout",
          "text": [
            "0.9991634132738427\n"
          ]
        }
      ]
    }
  ]
}